{
 "cells": [
  {
   "cell_type": "code",
   "execution_count": 1,
   "metadata": {},
   "outputs": [],
   "source": [
    "import time\n",
    "import threading\n",
    "from pynput.mouse import Button, Controller\n",
    "from pynput.keyboard import Listener, KeyCode\n",
    "from pynput import keyboard\n",
    "from pynput import mouse\n",
    "from pynput.keyboard import Key, Controller as keyboard"
   ]
  },
  {
   "cell_type": "code",
   "execution_count": 2,
   "metadata": {},
   "outputs": [],
   "source": [
    "delay = 1 # Changer la vitesse du programme (en seconde)\n",
    "button = Button.left\n",
    "start_stop_key = KeyCode(char='s')\n",
    "exit_key = KeyCode(char='e')\n"
   ]
  },
  {
   "cell_type": "code",
   "execution_count": 3,
   "metadata": {},
   "outputs": [],
   "source": [
    "class ClickMouse(threading.Thread):\n",
    "    def __init__(self, delay, button):\n",
    "        super(ClickMouse, self).__init__()\n",
    "        self.delay = delay\n",
    "        self.button = button\n",
    "        self.running = False\n",
    "        self.program_running = True\n",
    "\n",
    "    def start_clicking(self):\n",
    "        self.running = True\n",
    "\n",
    "    def stop_clicking(self):\n",
    "        self.running = False\n",
    "\n",
    "    def exit(self):\n",
    "        self.stop_clicking()\n",
    "        self.program_running = False\n",
    "\n",
    "    def run(self):\n",
    "        while self.program_running:\n",
    "            while self.running:\n",
    "                # Début du scénario :\n",
    "                \n",
    "                    \n",
    "\n",
    "                # Fin du scénario\n",
    "        time.sleep(0.1)"
   ]
  },
  {
   "cell_type": "code",
   "execution_count": null,
   "metadata": {},
   "outputs": [],
   "source": [
    "# Commande\n",
    "# Déplacement \n",
    "time.sleep(self.delay)\n",
    "mouse.position=(0, 0) # <- Coordonnée à changer\n",
    "time.sleep(self.delay)\n",
    "\n",
    "# Clic gauche \n",
    "time.sleep(self.delay)\n",
    "mouse.press(Button.left)\n",
    "mouse.release(Button.left)\n",
    "time.sleep(self.delay)\n",
    "\n",
    "#Clic droit\n",
    "time.sleep(self.delay)\n",
    "mouse.press(Button.right)\n",
    "mouse.release(Button.right)\n",
    "time.sleep(self.delay)\n",
    "\n",
    "# Double clic gauche\n",
    "time.sleep(self.delay)\n",
    "mouse.click(Button.left, 2)\n",
    "time.sleep(self.delay)\n",
    "\n",
    "# Double clic droit\n",
    "time.sleep(self.delay)\n",
    "mouse.click(Button.right, 2)\n",
    "time.sleep(self.delay)\n",
    "\n",
    "# Scroll 2 fois en bas\n",
    "time.sleep(self.delay)\n",
    "mouse.scroll(0, 2) # <- Peux changer le 2 pour plus ou moins de fois \n",
    "time.sleep(self.delay)\n",
    "\n",
    "# Scroll 2 fois en haut\n",
    "time.sleep(self.delay)\n",
    "mouse.scroll(1, 2) # <- Peux changer le 2 pour plus ou moins de fois\n",
    "time.sleep(self.delay)\n",
    "\n",
    "# Ecrire au clavier\n",
    "time.sleep(self.delay)\n",
    "keyboard.type(\"Quelque chose\") #Attention à vérifier sur la touche maj est activé ou pas. ex : si on veut taper un é et que maj est activé, ça va taper un 2\n",
    "time.sleep(self.delay)\n",
    "\n",
    "# Attendre un certain temps (en seconde)\n",
    "time.sleep(2)"
   ]
  },
  {
   "cell_type": "code",
   "execution_count": 4,
   "metadata": {},
   "outputs": [],
   "source": [
    "mouse = Controller()\n",
    "keyboard = keyboard()\n",
    "click_thread = ClickMouse(delay, button)\n",
    "click_thread.start()"
   ]
  },
  {
   "cell_type": "code",
   "execution_count": 5,
   "metadata": {},
   "outputs": [],
   "source": [
    "def on_press(key):\n",
    "    if key == start_stop_key:\n",
    "        if click_thread.running:\n",
    "            click_thread.stop_clicking()\n",
    "        else:\n",
    "            click_thread.start_clicking()\n",
    "    elif key == exit_key:\n",
    "        click_thread.exit()\n",
    "        listener.stop()\n",
    "\n",
    "with Listener(on_press=on_press) as listener:\n",
    "    listener.join()"
   ]
  },
  {
   "cell_type": "code",
   "execution_count": 6,
   "metadata": {},
   "outputs": [],
   "source": [
    "#Mettre la souris sur la ligne qui suit pour être sûr de ne pas appuyer n'importe où. S pour 'Start' et E pour 'End' \n",
    "# -> s"
   ]
  }
 ],
 "metadata": {
  "interpreter": {
   "hash": "ede921385b44acb2293ed60623a379a3cf23237e96005b2d281b5144f1cffe66"
  },
  "kernelspec": {
   "display_name": "Python 3.9.7 64-bit ('venv': venv)",
   "name": "python3"
  },
  "language_info": {
   "codemirror_mode": {
    "name": "ipython",
    "version": 3
   },
   "file_extension": ".py",
   "mimetype": "text/x-python",
   "name": "python",
   "nbconvert_exporter": "python",
   "pygments_lexer": "ipython3",
   "version": "3.9.7"
  },
  "orig_nbformat": 4
 },
 "nbformat": 4,
 "nbformat_minor": 2
}
